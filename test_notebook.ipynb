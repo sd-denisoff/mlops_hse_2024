{
 "cells": [
  {
   "cell_type": "code",
   "execution_count": 15,
   "id": "2182524a-5b16-45f8-8e87-d1ce9e6b3da7",
   "metadata": {},
   "outputs": [
    {
     "name": "stdout",
     "output_type": "stream",
     "text": [
      "The autoreload extension is already loaded. To reload it, use:\n",
      "  %reload_ext autoreload\n"
     ]
    }
   ],
   "source": [
    "%load_ext autoreload\n",
    "%autoreload 2"
   ]
  },
  {
   "cell_type": "code",
   "execution_count": 35,
   "id": "6138d804-f87b-4d0c-8202-1941025aa663",
   "metadata": {},
   "outputs": [],
   "source": [
    "from sklearn import datasets\n",
    "from models.ml_models.ml_models import LinRegModel\n",
    "import pandas as pd"
   ]
  },
  {
   "cell_type": "code",
   "execution_count": 29,
   "id": "3d7a10ec-a924-4882-93ed-1e859c91d430",
   "metadata": {},
   "outputs": [
    {
     "data": {
      "text/plain": [
       "sklearn.linear_model._base.LinearRegression"
      ]
     },
     "execution_count": 29,
     "metadata": {},
     "output_type": "execute_result"
    }
   ],
   "source": [
    "LinRegModel.model_class"
   ]
  },
  {
   "cell_type": "markdown",
   "id": "95428865-175d-42a7-bfd3-99386b69d148",
   "metadata": {},
   "source": [
    "# датасет"
   ]
  },
  {
   "cell_type": "code",
   "execution_count": 40,
   "id": "33e69be3-def0-4c1b-8229-30f17b1920f2",
   "metadata": {},
   "outputs": [],
   "source": [
    "X, y = datasets.load_diabetes(return_X_y=True)\n",
    "\n",
    "pd_X = pd.DataFrame(X)"
   ]
  },
  {
   "cell_type": "markdown",
   "id": "d3176403-765e-460d-8600-c0b393ca9450",
   "metadata": {},
   "source": [
    "# тестим model manager"
   ]
  },
  {
   "cell_type": "code",
   "execution_count": 26,
   "id": "94e490b8-23ed-4009-836e-3819ce793a7a",
   "metadata": {},
   "outputs": [],
   "source": [
    "# !pwd\n",
    "\n",
    "storage_dir = '/Users/ruattar/study/mlops/hw1_storage'"
   ]
  },
  {
   "cell_type": "code",
   "execution_count": 42,
   "id": "6f0d415f-d10e-4053-b2ae-4b4366bc2e50",
   "metadata": {},
   "outputs": [],
   "source": [
    "from models.model_manager import ModelManager"
   ]
  },
  {
   "cell_type": "code",
   "execution_count": 52,
   "id": "9718062f-f759-498f-a582-1aede3b74af4",
   "metadata": {},
   "outputs": [],
   "source": [
    "mm = ModelManager(storage_dir)"
   ]
  },
  {
   "cell_type": "code",
   "execution_count": 53,
   "id": "da60c9f3-db73-45c7-b9c2-56b324e58522",
   "metadata": {},
   "outputs": [
    {
     "data": {
      "text/plain": [
       "['copy_X', 'fit_intercept', 'n_jobs', 'positive']"
      ]
     },
     "execution_count": 53,
     "metadata": {},
     "output_type": "execute_result"
    }
   ],
   "source": [
    "mm.model_classes['linreg']._get_param_names()"
   ]
  },
  {
   "cell_type": "code",
   "execution_count": 54,
   "id": "22d7bed2-ee1f-4b0a-a4a9-c87869cb6fa6",
   "metadata": {},
   "outputs": [
    {
     "data": {
      "text/plain": [
       "'linreg_273cf8cb32bf2c37_de25bd7aa62361da'"
      ]
     },
     "execution_count": 54,
     "metadata": {},
     "output_type": "execute_result"
    }
   ],
   "source": [
    "mm.train_and_save_model(\"linreg\", pd_X, y, {'fit_intercept': True})"
   ]
  },
  {
   "cell_type": "code",
   "execution_count": 55,
   "id": "71ce4801-9a20-4e4b-98ca-86aea3e37296",
   "metadata": {},
   "outputs": [],
   "source": [
    "model = mm.load_model('linreg_273cf8cb32bf2c37_de25bd7aa62361da')"
   ]
  },
  {
   "cell_type": "code",
   "execution_count": 57,
   "id": "1e4b8851-f8a9-408b-9734-9447fa35b8bf",
   "metadata": {},
   "outputs": [],
   "source": [
    "pred = model.predict(X)"
   ]
  },
  {
   "cell_type": "code",
   "execution_count": 60,
   "id": "448632cc-fb51-4fad-97cd-f9dd5e2d3c6f",
   "metadata": {},
   "outputs": [],
   "source": [
    "from sklearn.metrics import mean_absolute_error, mean_absolute_percentage_error"
   ]
  },
  {
   "cell_type": "code",
   "execution_count": 61,
   "id": "881566e9-0472-4c40-8dd2-6b7038d5d18d",
   "metadata": {},
   "outputs": [
    {
     "data": {
      "text/plain": [
       "np.float64(0.3878617921794824)"
      ]
     },
     "execution_count": 61,
     "metadata": {},
     "output_type": "execute_result"
    }
   ],
   "source": [
    "mean_absolute_percentage_error(y, pred)"
   ]
  }
 ],
 "metadata": {
  "kernelspec": {
   "display_name": "Python 3 (ipykernel)",
   "language": "python",
   "name": "python3"
  },
  "language_info": {
   "codemirror_mode": {
    "name": "ipython",
    "version": 3
   },
   "file_extension": ".py",
   "mimetype": "text/x-python",
   "name": "python",
   "nbconvert_exporter": "python",
   "pygments_lexer": "ipython3",
   "version": "3.10.11"
  }
 },
 "nbformat": 4,
 "nbformat_minor": 5
}
