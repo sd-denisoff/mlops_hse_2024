{
 "cells": [
  {
   "cell_type": "code",
   "execution_count": 6,
   "id": "2182524a-5b16-45f8-8e87-d1ce9e6b3da7",
   "metadata": {},
   "outputs": [
    {
     "name": "stdout",
     "output_type": "stream",
     "text": [
      "The autoreload extension is already loaded. To reload it, use:\n",
      "  %reload_ext autoreload\n"
     ]
    }
   ],
   "source": [
    "%load_ext autoreload\n",
    "%autoreload 2\n",
    "\n",
    "from sklearn import datasets"
   ]
  },
  {
   "cell_type": "code",
   "execution_count": 4,
   "id": "f506aa75-a30f-468d-bbf1-cba0044e34b8",
   "metadata": {},
   "outputs": [],
   "source": [
    "from server.models.ml_models import LinRegModel\n",
    "from server.models.base_model import MLModel\n",
    "from sklearn.linear_model import LinearRegression"
   ]
  },
  {
   "cell_type": "code",
   "execution_count": 28,
   "id": "aa94178e-34b1-4e77-90aa-dd535163ea9f",
   "metadata": {},
   "outputs": [],
   "source": [
    "l = LinearRegression()"
   ]
  },
  {
   "cell_type": "code",
   "execution_count": 25,
   "id": "c7dffb0d-fb48-4a6a-a85c-53dd78ddcb75",
   "metadata": {},
   "outputs": [
    {
     "data": {
      "text/plain": [
       "{'a', 'b'}"
      ]
     },
     "execution_count": 25,
     "metadata": {},
     "output_type": "execute_result"
    }
   ],
   "source": [
    "a = {'a': 1, 'b': 2}\n",
    "set(a.keys())"
   ]
  },
  {
   "cell_type": "code",
   "execution_count": 32,
   "id": "d5bde201-2246-489a-9fd5-1c240e3dc376",
   "metadata": {},
   "outputs": [],
   "source": [
    "l = LinRegModel({'n_jobs': -1})"
   ]
  },
  {
   "cell_type": "code",
   "execution_count": 34,
   "id": "39199bbc-cfbf-4d3f-8727-f8690b7bd99c",
   "metadata": {},
   "outputs": [],
   "source": [
    "l.fit(X, y)"
   ]
  },
  {
   "cell_type": "code",
   "execution_count": 36,
   "id": "f3fce87d-dca6-493d-a60b-ed4d9451af21",
   "metadata": {},
   "outputs": [],
   "source": [
    "# l.predict(X)"
   ]
  },
  {
   "cell_type": "code",
   "execution_count": null,
   "id": "5ffdd553-2417-4c46-9e98-619710984c04",
   "metadata": {},
   "outputs": [],
   "source": [
    "l.predict()"
   ]
  },
  {
   "cell_type": "code",
   "execution_count": null,
   "id": "fc8bb22e-1f90-4efe-8a13-580d99e74460",
   "metadata": {},
   "outputs": [],
   "source": []
  }
 ],
 "metadata": {
  "kernelspec": {
   "display_name": "Python 3 (ipykernel)",
   "language": "python",
   "name": "python3"
  },
  "language_info": {
   "codemirror_mode": {
    "name": "ipython",
    "version": 3
   },
   "file_extension": ".py",
   "mimetype": "text/x-python",
   "name": "python",
   "nbconvert_exporter": "python",
   "pygments_lexer": "ipython3",
   "version": "3.10.11"
  }
 },
 "nbformat": 4,
 "nbformat_minor": 5
}
