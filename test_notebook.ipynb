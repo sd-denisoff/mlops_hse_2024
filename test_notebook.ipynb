{
 "cells": [
  {
   "cell_type": "code",
   "execution_count": 1,
   "id": "2182524a-5b16-45f8-8e87-d1ce9e6b3da7",
   "metadata": {},
   "outputs": [],
   "source": [
    "%load_ext autoreload\n",
    "%autoreload 2"
   ]
  },
  {
   "cell_type": "code",
   "execution_count": 2,
   "id": "f506aa75-a30f-468d-bbf1-cba0044e34b8",
   "metadata": {},
   "outputs": [
    {
     "name": "stdout",
     "output_type": "stream",
     "text": [
      "hello\n"
     ]
    }
   ],
   "source": [
    "from server.models.ml_models import LinRegModel"
   ]
  },
  {
   "cell_type": "code",
   "execution_count": 4,
   "id": "aa94178e-34b1-4e77-90aa-dd535163ea9f",
   "metadata": {},
   "outputs": [],
   "source": [
    "from server.models.base_model import MLModel"
   ]
  },
  {
   "cell_type": "code",
   "execution_count": 12,
   "id": "d5bde201-2246-489a-9fd5-1c240e3dc376",
   "metadata": {},
   "outputs": [],
   "source": [
    "l = LinRegModel({'lr': 1})"
   ]
  },
  {
   "cell_type": "code",
   "execution_count": 13,
   "id": "39199bbc-cfbf-4d3f-8727-f8690b7bd99c",
   "metadata": {},
   "outputs": [
    {
     "data": {
      "text/plain": [
       "LinRegModel(hyperparams={'lr': 1})"
      ]
     },
     "execution_count": 13,
     "metadata": {},
     "output_type": "execute_result"
    }
   ],
   "source": [
    "l"
   ]
  }
 ],
 "metadata": {
  "kernelspec": {
   "display_name": "Python 3 (ipykernel)",
   "language": "python",
   "name": "python3"
  },
  "language_info": {
   "codemirror_mode": {
    "name": "ipython",
    "version": 3
   },
   "file_extension": ".py",
   "mimetype": "text/x-python",
   "name": "python",
   "nbconvert_exporter": "python",
   "pygments_lexer": "ipython3",
   "version": "3.10.11"
  }
 },
 "nbformat": 4,
 "nbformat_minor": 5
}
