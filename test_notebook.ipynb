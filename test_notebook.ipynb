{
 "cells": [
  {
   "cell_type": "code",
   "execution_count": 1,
   "id": "2182524a-5b16-45f8-8e87-d1ce9e6b3da7",
   "metadata": {},
   "outputs": [],
   "source": [
    "%load_ext autoreload\n",
    "%autoreload 2\n",
    "\n",
    "from sklearn import datasets"
   ]
  },
  {
   "cell_type": "code",
   "execution_count": 18,
   "id": "f506aa75-a30f-468d-bbf1-cba0044e34b8",
   "metadata": {},
   "outputs": [],
   "source": [
    "from server.models.ml_models import LinRegModel\n",
    "from server.models.base_model import MLModel\n",
    "from sklearn.linear_model import LinearRegression\n",
    "\n",
    "import pandas as pd"
   ]
  },
  {
   "cell_type": "code",
   "execution_count": 31,
   "id": "33e69be3-def0-4c1b-8229-30f17b1920f2",
   "metadata": {},
   "outputs": [
    {
     "data": {
      "text/plain": [
       "['copy_X', 'fit_intercept', 'n_jobs', 'positive']"
      ]
     },
     "execution_count": 31,
     "metadata": {},
     "output_type": "execute_result"
    }
   ],
   "source": [
    "LinearRegression."
   ]
  },
  {
   "cell_type": "code",
   "execution_count": 28,
   "id": "aa94178e-34b1-4e77-90aa-dd535163ea9f",
   "metadata": {},
   "outputs": [],
   "source": [
    "l = LinearRegression()"
   ]
  },
  {
   "cell_type": "code",
   "execution_count": 3,
   "id": "86c8806a-4a75-4317-8548-e56049b0d0db",
   "metadata": {},
   "outputs": [],
   "source": [
    "dick = {'linear_reg': LinRegModel}"
   ]
  },
  {
   "cell_type": "code",
   "execution_count": 4,
   "id": "0384772c-47c9-4b86-a9ae-dd4d3ed5921c",
   "metadata": {},
   "outputs": [],
   "source": [
    "l = dick['linear_reg']()"
   ]
  },
  {
   "cell_type": "code",
   "execution_count": 5,
   "id": "6f46e947-01df-4a79-9625-d42b14a903c4",
   "metadata": {},
   "outputs": [
    {
     "data": {
      "text/plain": [
       "LinRegModel(hyperparams={})"
      ]
     },
     "execution_count": 5,
     "metadata": {},
     "output_type": "execute_result"
    }
   ],
   "source": [
    "l"
   ]
  },
  {
   "cell_type": "code",
   "execution_count": 29,
   "id": "c7dffb0d-fb48-4a6a-a85c-53dd78ddcb75",
   "metadata": {},
   "outputs": [
    {
     "data": {
      "text/plain": [
       "''"
      ]
     },
     "execution_count": 29,
     "metadata": {},
     "output_type": "execute_result"
    }
   ],
   "source": [
    "a = {}\n",
    "\n",
    "sorted(a.items())\n",
    "\n",
    "''.join([str(param) for param in sorted(a.items())])"
   ]
  },
  {
   "cell_type": "code",
   "execution_count": 32,
   "id": "d5bde201-2246-489a-9fd5-1c240e3dc376",
   "metadata": {},
   "outputs": [],
   "source": [
    "l = LinRegModel({'n_jobs': -1})"
   ]
  },
  {
   "cell_type": "code",
   "execution_count": 13,
   "id": "c7c8959c-73b0-47ca-88b6-7ad8571a2308",
   "metadata": {},
   "outputs": [],
   "source": [
    "X, y = datasets.load_diabetes(return_X_y=True)"
   ]
  },
  {
   "cell_type": "code",
   "execution_count": 34,
   "id": "39199bbc-cfbf-4d3f-8727-f8690b7bd99c",
   "metadata": {},
   "outputs": [],
   "source": [
    "l.fit(X, y)"
   ]
  },
  {
   "cell_type": "code",
   "execution_count": 24,
   "id": "f3fce87d-dca6-493d-a60b-ed4d9451af21",
   "metadata": {},
   "outputs": [],
   "source": [
    "import hashlib\n",
    "\n",
    "def generate_hashes(model_class, params_dict, data_df):\n",
    "    # Функция для генерации хэша из строки\n",
    "    def hash_string(s):\n",
    "        return hashlib.sha256(s.encode()).hexdigest()[:16]  # Хэш фиксированной длины 16 символов\n",
    "\n",
    "    params_list = sorted(params_dict.items())\n",
    "    # Генерация хэша для параметров\n",
    "    params_string = ''.join([str(param) for param in params_list])\n",
    "    params_hash = hash_string(params_string)\n",
    "\n",
    "    # Генерация хэша для DataFrame\n",
    "    data_string = data_df.to_csv(index=False)  # Преобразуем DataFrame в строку CSV\n",
    "    data_hash = hash_string(data_string)\n",
    "\n",
    "    # Генерация уникального ID\n",
    "    unique_id = f\"{model_class}_{params_hash}_{data_hash}\"\n",
    "\n",
    "    return unique_id"
   ]
  },
  {
   "cell_type": "code",
   "execution_count": 25,
   "id": "a182b0f1-4c2f-4570-ae29-cb2e511947b1",
   "metadata": {},
   "outputs": [],
   "source": [
    "# def hash_string(s):\n",
    "#     return hashlib.sha256(s.encode()).hexdigest()[:16]"
   ]
  },
  {
   "cell_type": "code",
   "execution_count": null,
   "id": "5d602ef3-fb86-4daa-9cc9-f70c84b49f81",
   "metadata": {},
   "outputs": [],
   "source": [
    "data_string = data_df.to_csv(index=False)"
   ]
  },
  {
   "cell_type": "code",
   "execution_count": 19,
   "id": "5ffdd553-2417-4c46-9e98-619710984c04",
   "metadata": {},
   "outputs": [],
   "source": [
    "pd_X = pd.DataFrame(X)"
   ]
  },
  {
   "cell_type": "code",
   "execution_count": 30,
   "id": "98da4068-4271-40e0-b68c-30388c236cb9",
   "metadata": {},
   "outputs": [
    {
     "data": {
      "text/plain": [
       "'linreg_e3b0c44298fc1c14_de25bd7aa62361da'"
      ]
     },
     "execution_count": 30,
     "metadata": {},
     "output_type": "execute_result"
    }
   ],
   "source": [
    "generate_hashes(\"linreg\", {}, pd_X)"
   ]
  },
  {
   "cell_type": "code",
   "execution_count": null,
   "id": "fc8bb22e-1f90-4efe-8a13-580d99e74460",
   "metadata": {},
   "outputs": [],
   "source": []
  },
  {
   "cell_type": "code",
   "execution_count": 8,
   "id": "9718062f-f759-498f-a582-1aede3b74af4",
   "metadata": {},
   "outputs": [
    {
     "data": {
      "text/plain": [
       "7363419552678456452"
      ]
     },
     "execution_count": 8,
     "metadata": {},
     "output_type": "execute_result"
    }
   ],
   "source": []
  }
 ],
 "metadata": {
  "kernelspec": {
   "display_name": "Python 3 (ipykernel)",
   "language": "python",
   "name": "python3"
  },
  "language_info": {
   "codemirror_mode": {
    "name": "ipython",
    "version": 3
   },
   "file_extension": ".py",
   "mimetype": "text/x-python",
   "name": "python",
   "nbconvert_exporter": "python",
   "pygments_lexer": "ipython3",
   "version": "3.10.11"
  }
 },
 "nbformat": 4,
 "nbformat_minor": 5
}
