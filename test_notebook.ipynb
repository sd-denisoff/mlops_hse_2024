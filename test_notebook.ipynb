{
 "cells": [
  {
   "cell_type": "code",
   "execution_count": 1,
   "id": "2182524a-5b16-45f8-8e87-d1ce9e6b3da7",
   "metadata": {},
   "outputs": [],
   "source": [
    "%load_ext autoreload\n",
    "%autoreload 2"
   ]
  },
  {
   "cell_type": "code",
   "execution_count": 2,
   "id": "6138d804-f87b-4d0c-8202-1941025aa663",
   "metadata": {},
   "outputs": [],
   "source": [
    "from sklearn import datasets\n",
    "from models.ml_models.ml_models import LinRegModel\n",
    "import pandas as pd"
   ]
  },
  {
   "cell_type": "code",
   "execution_count": 9,
   "id": "7107ed65-bbad-4890-8135-af92240d38b6",
   "metadata": {},
   "outputs": [],
   "source": [
    "from catboost import CatBoostRegressor"
   ]
  },
  {
   "cell_type": "code",
   "execution_count": 28,
   "id": "38a85f8e-1876-4130-bc35-d0db96332ca8",
   "metadata": {},
   "outputs": [],
   "source": [
    "# a = CatBoostRegressor().fit(X, y)"
   ]
  },
  {
   "cell_type": "code",
   "execution_count": 29,
   "id": "6c1aec12-3498-4a06-b011-dde7a0774c72",
   "metadata": {},
   "outputs": [],
   "source": [
    "# sorted(list(a.get_all_params().keys()))"
   ]
  },
  {
   "cell_type": "markdown",
   "id": "95428865-175d-42a7-bfd3-99386b69d148",
   "metadata": {},
   "source": [
    "# датасет"
   ]
  },
  {
   "cell_type": "code",
   "execution_count": 30,
   "id": "33e69be3-def0-4c1b-8229-30f17b1920f2",
   "metadata": {},
   "outputs": [],
   "source": [
    "X, y = datasets.load_diabetes(return_X_y=True)\n",
    "\n",
    "pd_X = pd.DataFrame(X)"
   ]
  },
  {
   "cell_type": "markdown",
   "id": "d3176403-765e-460d-8600-c0b393ca9450",
   "metadata": {},
   "source": [
    "# тестим model manager"
   ]
  },
  {
   "cell_type": "code",
   "execution_count": 31,
   "id": "94e490b8-23ed-4009-836e-3819ce793a7a",
   "metadata": {},
   "outputs": [],
   "source": [
    "# !pwd\n",
    "\n",
    "storage_dir = './saved_models'\n",
    "\n",
    "from models.model_manager import ModelManager\n",
    "mm = ModelManager(storage_dir)"
   ]
  },
  {
   "cell_type": "code",
   "execution_count": 32,
   "id": "6f0d415f-d10e-4053-b2ae-4b4366bc2e50",
   "metadata": {},
   "outputs": [
    {
     "data": {
      "text/plain": [
       "[]"
      ]
     },
     "execution_count": 32,
     "metadata": {},
     "output_type": "execute_result"
    }
   ],
   "source": [
    "mm.list_models()"
   ]
  },
  {
   "cell_type": "code",
   "execution_count": 33,
   "id": "da60c9f3-db73-45c7-b9c2-56b324e58522",
   "metadata": {},
   "outputs": [],
   "source": [
    "# mm.model_classes['lin_reg'].get_param_names()"
   ]
  },
  {
   "cell_type": "markdown",
   "id": "5a124fa4-405d-4145-86d7-96907a21fd04",
   "metadata": {},
   "source": [
    "# REST"
   ]
  },
  {
   "cell_type": "code",
   "execution_count": 41,
   "id": "578fe101-5fe0-4ce4-8f2f-8de9533f5bb1",
   "metadata": {},
   "outputs": [],
   "source": [
    "import requests\n",
    "import os\n",
    "import json"
   ]
  },
  {
   "cell_type": "code",
   "execution_count": 42,
   "id": "dbc06e14-bb08-44d9-bcbf-3896640e6b65",
   "metadata": {},
   "outputs": [],
   "source": [
    "url = 'http://127.0.0.1:8080'"
   ]
  },
  {
   "cell_type": "markdown",
   "id": "aa2e4b0d-b5af-48eb-90b6-dbe3a7152e09",
   "metadata": {},
   "source": [
    "# TestClient"
   ]
  },
  {
   "cell_type": "code",
   "execution_count": 43,
   "id": "44d8d9f9-c9d7-49a6-9326-73e4439b4a17",
   "metadata": {},
   "outputs": [
    {
     "data": {
      "text/plain": [
       "<Response [200 OK]>"
      ]
     },
     "execution_count": 43,
     "metadata": {},
     "output_type": "execute_result"
    }
   ],
   "source": [
    "from fastapi.testclient import TestClient  \n",
    "from server.rest.app import app  # Импортируем наш основной файл с FastAPI  \n",
    "  \n",
    "# Создаем клиент для тестирования  \n",
    "client = TestClient(app)  \n",
    "  \n",
    "\n",
    "response = client.get(\"/status/\")\n",
    "response"
   ]
  },
  {
   "cell_type": "code",
   "execution_count": 44,
   "id": "e43b4d7c-b7c9-4929-bc49-728ffef33fbf",
   "metadata": {},
   "outputs": [
    {
     "data": {
      "text/plain": [
       "b'{\"status\":\"online\"}'"
      ]
     },
     "execution_count": 44,
     "metadata": {},
     "output_type": "execute_result"
    }
   ],
   "source": [
    "response.content"
   ]
  },
  {
   "cell_type": "markdown",
   "id": "fb200954-d313-44db-9d9b-c7003199cd02",
   "metadata": {},
   "source": [
    "# На локальном сервере"
   ]
  },
  {
   "cell_type": "markdown",
   "id": "fe306f28-4adc-4025-872d-355012444b1c",
   "metadata": {},
   "source": [
    "## models"
   ]
  },
  {
   "cell_type": "code",
   "execution_count": 45,
   "id": "b5fd30bd-7016-4a09-80be-4dd89a06d791",
   "metadata": {},
   "outputs": [
    {
     "data": {
      "text/plain": [
       "<Response [200]>"
      ]
     },
     "execution_count": 45,
     "metadata": {},
     "output_type": "execute_result"
    }
   ],
   "source": [
    "response = requests.get(os.path.join(url, 'models'))\n",
    "\n",
    "response"
   ]
  },
  {
   "cell_type": "code",
   "execution_count": 46,
   "id": "9a3eac03-81b5-44c7-8e43-e60f56d9f6dd",
   "metadata": {},
   "outputs": [
    {
     "data": {
      "text/plain": [
       "b'{\"lin_reg\":[\"copy_X\",\"fit_intercept\",\"n_jobs\",\"positive\"],\"catboost_reg\":[\"learning_rate\",\"iterations\",\"depth\",\"l2_leaf_reg\",\"border_count\",\"random_strength\",\"bagging_temperature\",\"oddpriority_threshold\",\"feature_border_type\",\"task_type\"]}'"
      ]
     },
     "execution_count": 46,
     "metadata": {},
     "output_type": "execute_result"
    }
   ],
   "source": [
    "response.content"
   ]
  },
  {
   "cell_type": "markdown",
   "id": "868633d9-fff5-409f-bb72-73a4fb71530c",
   "metadata": {},
   "source": [
    "## train"
   ]
  },
  {
   "cell_type": "code",
   "execution_count": 50,
   "id": "0fccb1e7-d444-4746-85db-831c2b3379f7",
   "metadata": {},
   "outputs": [],
   "source": [
    "pd_X.columns = [str(i) for i in pd_X.columns]\n",
    "X_dict = pd_X.to_dict(orient='records')\n",
    "y_list = list(y)\n",
    "\n",
    "model_spec = {  \n",
    "    \"type\": \"catboost_reg\",  \n",
    "    \"parameters\": {  \n",
    "        # \"fit_intercept\": True,  \n",
    "    }  \n",
    "}"
   ]
  },
  {
   "cell_type": "code",
   "execution_count": 52,
   "id": "5540d0e8-cc59-4835-9c82-cd1fd1affc81",
   "metadata": {},
   "outputs": [
    {
     "data": {
      "text/plain": [
       "<Response [200]>"
      ]
     },
     "execution_count": 52,
     "metadata": {},
     "output_type": "execute_result"
    }
   ],
   "source": [
    "response = requests.post(\n",
    "    os.path.join(url, 'train'),\n",
    "    json={ \n",
    "        \"model_spec\": model_spec,\n",
    "        \"features\": X_dict,  \n",
    "        \"targets\": y_list,\n",
    "    }\n",
    ")\n",
    "\n",
    "response"
   ]
  },
  {
   "cell_type": "code",
   "execution_count": 53,
   "id": "d7672d8d-8471-44df-a146-728403691ef6",
   "metadata": {},
   "outputs": [
    {
     "data": {
      "text/plain": [
       "'catboost_reg_e3b0c44298fc1c14_d61ba0368f3c69f5'"
      ]
     },
     "execution_count": 53,
     "metadata": {},
     "output_type": "execute_result"
    }
   ],
   "source": [
    "model_id = json.loads(response.content).get('model_id')\n",
    "model_id"
   ]
  },
  {
   "cell_type": "markdown",
   "id": "ff738497-30ba-49db-b9b1-a4032d482cb3",
   "metadata": {},
   "source": [
    "## trained_models"
   ]
  },
  {
   "cell_type": "code",
   "execution_count": 60,
   "id": "1c7e4a66-e659-40ed-b627-3be773ac79e3",
   "metadata": {},
   "outputs": [
    {
     "data": {
      "text/plain": [
       "<Response [200]>"
      ]
     },
     "execution_count": 60,
     "metadata": {},
     "output_type": "execute_result"
    }
   ],
   "source": [
    "response = requests.get(\n",
    "    os.path.join(url, 'trained_models'),\n",
    ")\n",
    "\n",
    "response"
   ]
  },
  {
   "cell_type": "code",
   "execution_count": 61,
   "id": "3b11e821-7cd8-49cc-a2e7-5e1f9b18dd98",
   "metadata": {},
   "outputs": [
    {
     "data": {
      "text/plain": [
       "b'{\"trained_models\":[\"catboost_reg_e3b0c44298fc1c14_d61ba0368f3c69f5\"]}'"
      ]
     },
     "execution_count": 61,
     "metadata": {},
     "output_type": "execute_result"
    }
   ],
   "source": [
    "response.content"
   ]
  },
  {
   "cell_type": "markdown",
   "id": "b631528e-c2a8-4009-85d1-c0003ea9cdaa",
   "metadata": {},
   "source": [
    "## predict"
   ]
  },
  {
   "cell_type": "code",
   "execution_count": 56,
   "id": "2be44207-80c5-439a-a836-561aada707ca",
   "metadata": {},
   "outputs": [
    {
     "data": {
      "text/plain": [
       "<Response [200]>"
      ]
     },
     "execution_count": 56,
     "metadata": {},
     "output_type": "execute_result"
    }
   ],
   "source": [
    "response = requests.post(\n",
    "    os.path.join(url, 'predict'),\n",
    "    json={ \n",
    "        \"model_id\": model_id,\n",
    "        \"features\": X_dict,\n",
    "    }\n",
    ")\n",
    "\n",
    "response"
   ]
  },
  {
   "cell_type": "code",
   "execution_count": 57,
   "id": "e87ce0f2-f585-4ef3-b58e-c7bbe28eafeb",
   "metadata": {},
   "outputs": [
    {
     "data": {
      "text/plain": [
       "442"
      ]
     },
     "execution_count": 57,
     "metadata": {},
     "output_type": "execute_result"
    }
   ],
   "source": [
    "len(json.loads(response.content)['predictions'])"
   ]
  },
  {
   "cell_type": "code",
   "execution_count": 62,
   "id": "082fb43d-ddcf-4bd3-ac29-d76337641975",
   "metadata": {},
   "outputs": [
    {
     "data": {
      "text/plain": [
       "<Response [200]>"
      ]
     },
     "execution_count": 62,
     "metadata": {},
     "output_type": "execute_result"
    }
   ],
   "source": [
    "response = requests.delete(os.path.join(url, 'models', 'catboost_reg_e3b0c44298fc1c14_d61ba0368f3c69f5'))\n",
    "\n",
    "response"
   ]
  },
  {
   "cell_type": "code",
   "execution_count": 63,
   "id": "f3770df4-69de-49eb-a51b-422c450970ec",
   "metadata": {},
   "outputs": [
    {
     "data": {
      "text/plain": [
       "b'{\"status\":\"success\",\"detail\":\"Model deleted successfully\"}'"
      ]
     },
     "execution_count": 63,
     "metadata": {},
     "output_type": "execute_result"
    }
   ],
   "source": [
    "response.content"
   ]
  },
  {
   "cell_type": "code",
   "execution_count": 64,
   "id": "c8eedbee-699c-4c9d-a368-ee9af50fe6ef",
   "metadata": {},
   "outputs": [
    {
     "data": {
      "text/plain": [
       "'{\"trained_models\":[]}'"
      ]
     },
     "execution_count": 64,
     "metadata": {},
     "output_type": "execute_result"
    }
   ],
   "source": [
    "requests.get(\n",
    "    os.path.join(url, 'trained_models'),\n",
    ").content.decode()"
   ]
  },
  {
   "cell_type": "markdown",
   "id": "c600642b-7111-4aeb-acd5-8fbefb0ad355",
   "metadata": {},
   "source": [
    "# Общие комменты:"
   ]
  }
 ],
 "metadata": {
  "kernelspec": {
   "display_name": "Python 3 (ipykernel)",
   "language": "python",
   "name": "python3"
  },
  "language_info": {
   "codemirror_mode": {
    "name": "ipython",
    "version": 3
   },
   "file_extension": ".py",
   "mimetype": "text/x-python",
   "name": "python",
   "nbconvert_exporter": "python",
   "pygments_lexer": "ipython3",
   "version": "3.10.11"
  }
 },
 "nbformat": 4,
 "nbformat_minor": 5
}
